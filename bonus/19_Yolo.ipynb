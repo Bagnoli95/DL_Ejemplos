{
 "cells": [
  {
   "cell_type": "code",
   "execution_count": 2,
   "metadata": {},
   "outputs": [
    {
     "name": "stdout",
     "output_type": "stream",
     "text": [
      "Creating new Ultralytics Settings v0.0.6 file  \n",
      "View Ultralytics Settings with 'yolo settings' or at 'C:\\Users\\asosa\\AppData\\Roaming\\Ultralytics\\settings.json'\n",
      "Update Settings with 'yolo settings key=value', i.e. 'yolo settings runs_dir=path/to/dir'. For help see https://docs.ultralytics.com/quickstart/#ultralytics-settings.\n"
     ]
    }
   ],
   "source": [
    "from ultralytics import YOLO"
   ]
  },
  {
   "cell_type": "code",
   "execution_count": 20,
   "metadata": {},
   "outputs": [
    {
     "name": "stdout",
     "output_type": "stream",
     "text": [
      "\n",
      "image 1/1 c:\\Arturo\\Proyectos\\MITIC\\DeepLearning\\DL_Ejemplos\\DL_Ejemplos\\bonus\\image.png: 384x640 7 persons, 1 sports ball, 82.5ms\n",
      "Speed: 3.0ms preprocess, 82.5ms inference, 2.0ms postprocess per image at shape (1, 3, 384, 640)\n"
     ]
    },
    {
     "data": {
      "text/plain": [
       "array([[[ 42,  36,  37],\n",
       "        [ 43,  37,  38],\n",
       "        [ 42,  37,  36],\n",
       "        ...,\n",
       "        [ 40,  36,  31],\n",
       "        [ 40,  36,  31],\n",
       "        [ 40,  36,  31]],\n",
       "\n",
       "       [[ 42,  36,  37],\n",
       "        [ 41,  35,  36],\n",
       "        [ 37,  32,  31],\n",
       "        ...,\n",
       "        [ 40,  36,  31],\n",
       "        [ 40,  36,  31],\n",
       "        [ 40,  36,  31]],\n",
       "\n",
       "       [[ 38,  34,  33],\n",
       "        [ 36,  32,  31],\n",
       "        [ 31,  27,  26],\n",
       "        ...,\n",
       "        [ 41,  37,  32],\n",
       "        [ 41,  37,  32],\n",
       "        [ 41,  37,  32]],\n",
       "\n",
       "       ...,\n",
       "\n",
       "       [[ 55,  59,  77],\n",
       "        [ 55,  59,  77],\n",
       "        [ 54,  58,  76],\n",
       "        ...,\n",
       "        [ 61, 151, 108],\n",
       "        [ 69, 158, 115],\n",
       "        [ 74, 163, 120]],\n",
       "\n",
       "       [[ 47,  54,  69],\n",
       "        [ 47,  54,  69],\n",
       "        [ 48,  52,  70],\n",
       "        ...,\n",
       "        [ 69, 159, 116],\n",
       "        [ 77, 166, 123],\n",
       "        [ 80, 169, 126]],\n",
       "\n",
       "       [[ 40,  47,  62],\n",
       "        [ 41,  48,  63],\n",
       "        [ 43,  47,  65],\n",
       "        ...,\n",
       "        [ 72, 162, 119],\n",
       "        [ 75, 164, 121],\n",
       "        [ 72, 161, 118]]], dtype=uint8)"
      ]
     },
     "execution_count": 20,
     "metadata": {},
     "output_type": "execute_result"
    }
   ],
   "source": [
    "model = YOLO('yolov8n.pt')\n",
    "\n",
    "result = model('image.png')\n",
    "\n",
    "result[0].plot()"
   ]
  }
 ],
 "metadata": {
  "kernelspec": {
   "display_name": "Python 3",
   "language": "python",
   "name": "python3"
  },
  "language_info": {
   "codemirror_mode": {
    "name": "ipython",
    "version": 3
   },
   "file_extension": ".py",
   "mimetype": "text/x-python",
   "name": "python",
   "nbconvert_exporter": "python",
   "pygments_lexer": "ipython3",
   "version": "3.12.0"
  }
 },
 "nbformat": 4,
 "nbformat_minor": 2
}
