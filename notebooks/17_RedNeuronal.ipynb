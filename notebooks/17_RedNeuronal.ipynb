{
 "cells": [
  {
   "cell_type": "markdown",
   "metadata": {},
   "source": [
    "Cargar y Preprocesar los Datos\n",
    "\n",
    "Comencemos cargando y preprocesando los datos. Vamos a normalizar los valores de los píxeles para que estén en el rango [0, 1] y a convertir las etiquetas en una representación one-hot."
   ]
  },
  {
   "cell_type": "code",
   "execution_count": 1,
   "metadata": {},
   "outputs": [],
   "source": [
    "from tensorflow.keras.datasets import mnist\n",
    "from tensorflow.keras.utils import to_categorical\n",
    "\n",
    "# Cargar el conjunto de datos MNIST\n",
    "(X_train, y_train), (X_test, y_test) = mnist.load_data()\n",
    "\n",
    "# Preprocesar los datos\n",
    "X_train = X_train.reshape(-1, 28*28).astype('float32') / 255\n",
    "X_test = X_test.reshape(-1, 28*28).astype('float32') / 255\n",
    "\n",
    "# Convertir las etiquetas a one-hot encoding\n",
    "y_train = to_categorical(y_train, 10)\n",
    "y_test = to_categorical(y_test, 10)"
   ]
  },
  {
   "cell_type": "markdown",
   "metadata": {},
   "source": [
    "Explicación del Preprocesamiento\n",
    "\n",
    "1. Cargar los Datos: Usamos `mnist.load_data()` para cargar las imágenes y etiquetas en dos conjuntos: entrenamiento (`X_train`, `y_train`) y prueba (`X_test`, `y_test`).\n",
    "2. Redimensionar y Normalizar: Redimensionamos cada imagen de 28×28 píxeles a un vector de 784 elementos y normalizamos los valores de los píxeles para que estén en el rango [0, 1].\n",
    "3. One-Hot Encoding: Convertimos las etiquetas en un formato one-hot, que es necesario para la clasificación multiclase."
   ]
  },
  {
   "cell_type": "markdown",
   "metadata": {},
   "source": [
    "Construcción del Modelo\n",
    "\n",
    "A continuación, construiremos una red neuronal simple con Keras utilizando la clase `Sequential`. La red tendrá dos capas ocultas densas con activación ReLU y una capa de salida con activación Softmax."
   ]
  },
  {
   "cell_type": "code",
   "execution_count": 2,
   "metadata": {},
   "outputs": [
    {
     "name": "stderr",
     "output_type": "stream",
     "text": [
      "c:\\Users\\asosa\\AppData\\Local\\Programs\\Python\\Python312\\Lib\\site-packages\\keras\\src\\layers\\core\\dense.py:87: UserWarning: Do not pass an `input_shape`/`input_dim` argument to a layer. When using Sequential models, prefer using an `Input(shape)` object as the first layer in the model instead.\n",
      "  super().__init__(activity_regularizer=activity_regularizer, **kwargs)\n"
     ]
    }
   ],
   "source": [
    "from tensorflow.keras.models import Sequential\n",
    "from tensorflow.keras.layers import Dense\n",
    "\n",
    "# Crear el modelo\n",
    "model = Sequential([\n",
    "    Dense(128, activation='relu', input_shape=(28*28,)),\n",
    "    Dense(64, activation='relu'),\n",
    "    Dense(10, activation='softmax')\n",
    "])\n",
    "\n",
    "# Compilar el modelo\n",
    "model.compile(optimizer='adam', loss='categorical_crossentropy', metrics=['accuracy'])"
   ]
  },
  {
   "cell_type": "markdown",
   "metadata": {},
   "source": [
    "Explicación del Modelo\n",
    "\n",
    "1. Capas Ocultas: La red tiene dos capas ocultas densas con 128 y 64 neuronas respectivamente. Cada neurona en estas capas aplica la función de activación ReLU a su entrada.\n",
    "2. Capa de Salida: La capa de salida tiene 10 neuronas, cada una representando una clase de dígito. La función de activación Softmax convierte las salidas en probabilidades.\n",
    "3. Compilación: Compilamos el modelo utilizando el optimizador Adam y la función de pérdida de entropía cruzada categórica.\n",
    "\n",
    " \n",
    "\n",
    "Entrenamiento del Modelo\n",
    "\n",
    "Ahora que hemos construido nuestro modelo, es hora de entrenarlo utilizando los datos de entrenamiento. Usaremos el método `fit` de Keras para entrenar el modelo durante 10 épocas."
   ]
  },
  {
   "cell_type": "code",
   "execution_count": 3,
   "metadata": {},
   "outputs": [
    {
     "name": "stdout",
     "output_type": "stream",
     "text": [
      "Epoch 1/10\n",
      "\u001b[1m1500/1500\u001b[0m \u001b[32m━━━━━━━━━━━━━━━━━━━━\u001b[0m\u001b[37m\u001b[0m \u001b[1m4s\u001b[0m 2ms/step - accuracy: 0.8565 - loss: 0.4804 - val_accuracy: 0.9569 - val_loss: 0.1522\n",
      "Epoch 2/10\n",
      "\u001b[1m1500/1500\u001b[0m \u001b[32m━━━━━━━━━━━━━━━━━━━━\u001b[0m\u001b[37m\u001b[0m \u001b[1m3s\u001b[0m 2ms/step - accuracy: 0.9652 - loss: 0.1149 - val_accuracy: 0.9662 - val_loss: 0.1066\n",
      "Epoch 3/10\n",
      "\u001b[1m1500/1500\u001b[0m \u001b[32m━━━━━━━━━━━━━━━━━━━━\u001b[0m\u001b[37m\u001b[0m \u001b[1m4s\u001b[0m 2ms/step - accuracy: 0.9771 - loss: 0.0758 - val_accuracy: 0.9695 - val_loss: 0.1019\n",
      "Epoch 4/10\n",
      "\u001b[1m1500/1500\u001b[0m \u001b[32m━━━━━━━━━━━━━━━━━━━━\u001b[0m\u001b[37m\u001b[0m \u001b[1m3s\u001b[0m 2ms/step - accuracy: 0.9834 - loss: 0.0529 - val_accuracy: 0.9693 - val_loss: 0.1011\n",
      "Epoch 5/10\n",
      "\u001b[1m1500/1500\u001b[0m \u001b[32m━━━━━━━━━━━━━━━━━━━━\u001b[0m\u001b[37m\u001b[0m \u001b[1m3s\u001b[0m 2ms/step - accuracy: 0.9870 - loss: 0.0392 - val_accuracy: 0.9728 - val_loss: 0.0955\n",
      "Epoch 6/10\n",
      "\u001b[1m1500/1500\u001b[0m \u001b[32m━━━━━━━━━━━━━━━━━━━━\u001b[0m\u001b[37m\u001b[0m \u001b[1m3s\u001b[0m 2ms/step - accuracy: 0.9897 - loss: 0.0312 - val_accuracy: 0.9719 - val_loss: 0.1021\n",
      "Epoch 7/10\n",
      "\u001b[1m1500/1500\u001b[0m \u001b[32m━━━━━━━━━━━━━━━━━━━━\u001b[0m\u001b[37m\u001b[0m \u001b[1m3s\u001b[0m 2ms/step - accuracy: 0.9909 - loss: 0.0286 - val_accuracy: 0.9718 - val_loss: 0.1116\n",
      "Epoch 8/10\n",
      "\u001b[1m1500/1500\u001b[0m \u001b[32m━━━━━━━━━━━━━━━━━━━━\u001b[0m\u001b[37m\u001b[0m \u001b[1m3s\u001b[0m 2ms/step - accuracy: 0.9918 - loss: 0.0240 - val_accuracy: 0.9732 - val_loss: 0.1010\n",
      "Epoch 9/10\n",
      "\u001b[1m1500/1500\u001b[0m \u001b[32m━━━━━━━━━━━━━━━━━━━━\u001b[0m\u001b[37m\u001b[0m \u001b[1m4s\u001b[0m 2ms/step - accuracy: 0.9939 - loss: 0.0188 - val_accuracy: 0.9737 - val_loss: 0.1069\n",
      "Epoch 10/10\n",
      "\u001b[1m1500/1500\u001b[0m \u001b[32m━━━━━━━━━━━━━━━━━━━━\u001b[0m\u001b[37m\u001b[0m \u001b[1m3s\u001b[0m 2ms/step - accuracy: 0.9953 - loss: 0.0179 - val_accuracy: 0.9755 - val_loss: 0.1052\n"
     ]
    },
    {
     "data": {
      "text/plain": [
       "<keras.src.callbacks.history.History at 0x2b8a3d72c00>"
      ]
     },
     "execution_count": 3,
     "metadata": {},
     "output_type": "execute_result"
    }
   ],
   "source": [
    "# Entrenar el modelo\n",
    "model.fit(X_train, y_train, epochs=10, batch_size=32, validation_split=0.2)"
   ]
  },
  {
   "cell_type": "markdown",
   "metadata": {},
   "source": [
    "Explicación del Proceso de Entrenamiento\n",
    "\n",
    "1. Épocas: El número de épocas determina cuántas veces el modelo verá cada muestra del conjunto de datos de entrenamiento. En este caso, entrenaremos el modelo durante 10 épocas.\n",
    "2. Batch Size: El tamaño del lote (`batch_size`) determina cuántas muestras se utilizan para calcular el gradiente en cada paso de la actualización de los pesos.\n",
    "3. Validation Split: Usamos un 20% de los datos de entrenamiento para validación, lo que nos permite monitorear el rendimiento del modelo en un conjunto de datos que no se utiliza para el entrenamiento.\n",
    "\n",
    " \n",
    "\n",
    "Evaluación del Modelo\n",
    "\n",
    "Después de entrenar el modelo, es importante evaluar su rendimiento en un conjunto de datos que no ha visto antes: el conjunto de prueba. Usaremos el método `evaluate` de Keras para hacer esto."
   ]
  },
  {
   "cell_type": "code",
   "execution_count": 4,
   "metadata": {},
   "outputs": [
    {
     "name": "stdout",
     "output_type": "stream",
     "text": [
      "\u001b[1m313/313\u001b[0m \u001b[32m━━━━━━━━━━━━━━━━━━━━\u001b[0m\u001b[37m\u001b[0m \u001b[1m1s\u001b[0m 1ms/step - accuracy: 0.9727 - loss: 0.1155\n",
      "Test accuracy: 0.9770\n"
     ]
    }
   ],
   "source": [
    "# Evaluar el modelo en el conjunto de prueba\n",
    "test_loss, test_acc = model.evaluate(X_test, y_test)\n",
    "print(f'Test accuracy: {test_acc:.4f}')"
   ]
  },
  {
   "cell_type": "markdown",
   "metadata": {},
   "source": [
    "Explicación de la Evaluación\n",
    "\n",
    "1. Evaluación en el Conjunto de Prueba: Evaluamos el modelo utilizando el conjunto de prueba para obtener una medida de su rendimiento en datos no vistos.\n",
    "2. Precisión: La precisión (`test_acc`) es la fracción de predicciones correctas realizadas por el modelo en el conjunto de prueba.\n",
    "\n",
    " \n",
    "\n",
    "Este ejercicio te proporciona una comprensión práctica de cómo construir, entrenar y evaluar una red neuronal simple utilizando Keras. Aunque el modelo que hemos construido es básico, los principios son aplicables a modelos más complejos y potentes."
   ]
  }
 ],
 "metadata": {
  "kernelspec": {
   "display_name": "Python 3",
   "language": "python",
   "name": "python3"
  },
  "language_info": {
   "codemirror_mode": {
    "name": "ipython",
    "version": 3
   },
   "file_extension": ".py",
   "mimetype": "text/x-python",
   "name": "python",
   "nbconvert_exporter": "python",
   "pygments_lexer": "ipython3",
   "version": "3.12.0"
  }
 },
 "nbformat": 4,
 "nbformat_minor": 2
}
